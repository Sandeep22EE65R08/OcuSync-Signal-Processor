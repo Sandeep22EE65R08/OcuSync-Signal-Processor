import numpy as np
import matplotlib.pyplot as plt
import scipy.signal
from scipy.signal import butter, filtfilt, welch, hamming

# Function for DFT-based filtering
def dft_filter(signal: np.ndarray, cutoff: float, sampling_rate: float):
    """
    Apply a DFT-based low-pass filter to the signal.
    """
    dft = np.fft.fft(signal)
    freqs = np.fft.fftfreq(len(signal), d=1/sampling_rate)
    filter_mask = np.abs(freqs) < cutoff
    dft_filtered = dft * filter_mask
    signal_filtered = np.fft.ifft(dft_filtered)
    return signal_filtered

# Prompt user for selection
selection = input("Press 1, 2, or 3 to select the band: ")
if selection not in ["1", "2", "3"]:
    print("Invalid selection. Defaulting to 1.")
    selection = "1"

# Dictionary to store filtered packets
filtered_packets = {"1": [], "2": [], "3": []}

# Process each detected packet
for idx, (start_idx, end_idx) in enumerate(valid_packets, start=1):
    current_packet = signal_data[start_idx:end_idx]
    offset, band_found = processor.estimate_offset(current_packet, sampling_rate, packet_type="droneid", selection=selection)

    if band_found:
        corrected_packet = DroneSignalProcessor.fshift(current_packet, -offset, sampling_rate)
        
        # Apply filtering based on selection
        if selection == "1":
            filtered_packet = dft_filter(corrected_packet, 7.5e6, sampling_rate)
        elif selection == "2":
            filtered_packet = dft_filter(corrected_packet, 8.5e6, sampling_rate)
        elif selection == "3":
            filtered_packet = dft_filter(corrected_packet, 8.5e6, sampling_rate)
        
        # Store the filtered packet
        filtered_packets[selection].append(filtered_packet)
        
        # Plot spectrogram
        plt.figure(figsize=(12, 5))
        plt.specgram(filtered_packet, NFFT=256, Fs=sampling_rate, noverlap=128, scale='dB')
        plt.title(f"Spectrogram of Filtered Packet {idx} (Selection {selection})")
        plt.xlabel("Time [s]")
        plt.ylabel("Frequency [Hz]")
        plt.colorbar(label="Power/Frequency [dB]")
        plt.show()
    else:
        print(f"Packet {idx}: No suitable band found for offset correction.")
