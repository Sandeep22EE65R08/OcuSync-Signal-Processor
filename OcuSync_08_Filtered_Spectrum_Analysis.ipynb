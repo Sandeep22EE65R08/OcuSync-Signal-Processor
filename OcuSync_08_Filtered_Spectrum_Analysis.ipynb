import numpy as np
import matplotlib.pyplot as plt
from scipy.signal import welch, hamming

# Prompt user for selection
selection = input("Press 1, 2, or 3 to select the band: ")
if selection not in ["1", "2", "3"]:
    print("Invalid selection. Defaulting to 1.")
    selection = "1"

# Define cutoff frequencies for filtering
cutoff_mapping = {"1": 7.5e6, "2": 8.5e6, "3": 8.5e6}
cutoff_freq = cutoff_mapping[selection]

# Function to plot frequency spectrum using fftshift
def plot_frequency_spectrum(signal, sampling_rate, idx, selection, fft_size=2048):
    """Computes and plots the frequency spectrum of the given signal using FFT shift."""
    spectrum = np.fft.fftshift(np.abs(np.fft.fft(signal, n=fft_size)))
    freq_axis = np.fft.fftshift(np.fft.fftfreq(fft_size, d=1/sampling_rate))

    plt.figure(figsize=(10, 4))
    plt.plot(freq_axis / 1e6, spectrum)  # Convert frequency to MHz
    plt.axvline(x=-10, color='red', linestyle='--', linewidth=1, label='-10 MHz')
    plt.axvline(x=10, color='red', linestyle='--', linewidth=1, label='10 MHz')
    plt.title(f"Frequency Spectrum of Filtered Packet {idx} (Selection {selection})")
    plt.xlabel("Frequency [MHz]")
    plt.ylabel("Magnitude")
    plt.legend()
    plt.show()

# Process each detected packet
for idx, (start_idx, end_idx) in enumerate(valid_packets, start=1):
    current_packet = signal_data[start_idx:end_idx]
    offset, band_found = processor.estimate_offset(current_packet, sampling_rate, packet_type="droneid", selection=selection)

    if band_found:
        corrected_packet = DroneSignalProcessor.fshift(current_packet, -offset, sampling_rate)
        filtered_packet = dft_filter(corrected_packet, cutoff_freq, sampling_rate)  # Using the already defined DFT filter

        

        # Plot frequency spectrum
        plot_frequency_spectrum(filtered_packet, sampling_rate, idx, selection)

    else:
        print(f"Packet {idx}: No suitable band found for offset correction.")
