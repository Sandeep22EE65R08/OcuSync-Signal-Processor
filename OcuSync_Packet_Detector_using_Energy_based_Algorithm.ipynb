import numpy as np
import matplotlib.pyplot as plt
from scipy.signal import butter, filtfilt

def bandpass_filter(data, sampling_rate, low_cutoff, high_cutoff, order=4):
    """
    Apply a bandpass filter to isolate the desired frequency range.
    """
    nyquist = sampling_rate / 2.0
    low = low_cutoff / nyquist
    high = high_cutoff / nyquist
    b, a = butter(order, [low, high], btype='band')
    return filtfilt(b, a, data)

def detect_packets_energy(data, sampling_rate, window_ms, threshold_factor):
    """
    Detect signal packets based on energy accumulation.
    """
    window_samples = int((window_ms / 1000) * sampling_rate)
    energy_profile = np.convolve(np.abs(data)**2, np.ones(window_samples), mode='same')
    
    noise_level = np.mean(energy_profile)  # Baseline noise level
    threshold = threshold_factor * noise_level

    detected = energy_profile > threshold
    packets = []
    start = None

    for i, is_high in enumerate(detected):
        if is_high and start is None:
            start = i
        elif not is_high and start is not None:
            packets.append((start, i))
            start = None

    if start is not None:
        packets.append((start, len(detected)))

    return packets, energy_profile, threshold

# Define cutoff frequencies only (no repetition of sample_files)
cutoff_frequencies = {
    "1": (4.5e6, 19.9e6),
    "2": (6e6, 24e6),
    "3": (5e6, 14e6)
}

selection = input("\nPress 1 for index 1, 2 for index 2, or 3 for index 3: ").strip()

if selection in sample_files:
    file_path, sampling_rate = sample_files[selection]  # Using sample_files from previous cell
    low_cutoff, high_cutoff = cutoff_frequencies[selection]

    # Read the signal data
    with open(file_path, "rb") as f:
        signal_data = np.fromfile(f, dtype=np.complex64)

    # Step 1: Apply Bandpass Filter
    filtered_data = bandpass_filter(signal_data, sampling_rate, low_cutoff, high_cutoff)

    # Step 2: Detect Signal Packets
    window_ms = 0.108  # Window size in milliseconds
    threshold_factor = 0.9  # Threshold multiplier
    packets, energy_profile, threshold = detect_packets_energy(filtered_data, sampling_rate, window_ms, threshold_factor)

    # Step 3: Filter Out Short Packets
    valid_duration_threshold = 640e-6  # 600 microseconds
    valid_packets = [
        (start_idx, end_idx) for start_idx, end_idx in packets
        if (end_idx - start_idx) / sampling_rate >= valid_duration_threshold
    ]

    # Step 4: Plot Energy Profile
    plt.figure(figsize=(12, 6))
    plt.plot(energy_profile, label="Energy Profile", color="blue")
    plt.axhline(y=threshold, color="red", linestyle="--", label="Threshold")
    plt.title(f"Energy Profile with Detected Signal Packets (Index {selection})")
    plt.xlabel("Sample Index")
    plt.ylabel("Energy")
    plt.legend()
    plt.grid()
    plt.show()

    # Step 5: Plot Spectrograms for Detected Packets
    print(f"Number of detected packets: {len(valid_packets)}")
    for idx, (start_idx, end_idx) in enumerate(valid_packets, start=1):
        start_time = start_idx / sampling_rate
        end_time = end_idx / sampling_rate
        print(f"Packet {idx}: Start Time = {start_time:.6f} s, End Time = {end_time:.6f} s, Duration = {end_time - start_time:.6f} s")

        packet_data = signal_data[start_idx:end_idx]

        plt.figure(figsize=(10, 4))
        plt.specgram(packet_data, NFFT=256, Fs=sampling_rate, noverlap=128, cmap='viridis', scale='dB')
        plt.title(f"Spectrogram of Detected Packet {idx}")
        plt.xlabel("Time [s]")
        plt.ylabel("Frequency [Hz]")
        plt.colorbar(label="Power/Frequency [dB]")
        plt.show()
else:
    print("Invalid selection. Please enter 1, 2, or 3.")
