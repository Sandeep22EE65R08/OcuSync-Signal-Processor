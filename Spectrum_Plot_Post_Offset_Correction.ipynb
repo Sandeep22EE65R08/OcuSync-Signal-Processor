import numpy as np
import matplotlib.pyplot as plt

def plot_frequency_spectrum(corrected_packet, idx, Fs, fft_size=2048):
    """Compute and plot the frequency spectrum of a corrected packet using a specified FFT size."""
    spectrum = np.fft.fftshift(np.abs(np.fft.fft(corrected_packet, n=fft_size)))
    freq_axis = np.fft.fftshift(np.fft.fftfreq(fft_size, d=1/Fs))
    
    # Find peak frequency in kHz
    peak_freq = freq_axis[np.argmax(spectrum)] / 1e3
    
    plt.figure(figsize=(10, 4))
    plt.plot(freq_axis, spectrum)
    plt.axvline(x=-1e7, color='red', linestyle='--', linewidth=1, label='-10 MHz')
    plt.axvline(x=1e7, color='red', linestyle='--', linewidth=1, label='10 MHz')
    plt.title(f"Frequency Spectrum of Corrected Packet {idx} (Peak: {peak_freq:.2f} kHz)")
    plt.xlabel("Frequency [Hz]")
    plt.ylabel("Magnitude")
    plt.legend()
    plt.show()
    
    print(f"Packet {idx}: Peak Frequency = {peak_freq:.2f} kHz")

def process_corrected_packets(valid_packets, signal_data, processor, sampling_rate, selection):
    """Processes and plots the frequency spectrum for corrected packets based on user selection."""
    
    if selection not in cutoff_frequencies:
        print("Invalid selection. Please enter 1, 2, or 3.")
        return

    for idx, (start_idx, end_idx) in enumerate(valid_packets, start=1):
        current_packet = signal_data[start_idx:end_idx]

        # Estimate frequency offset
        offset, band_found = processor.estimate_offset(current_packet, sampling_rate, selection)

        if band_found:
            corrected_packet = processor.fshift(current_packet, -offset, sampling_rate)
            plot_frequency_spectrum(corrected_packet, idx, sampling_rate)
        else:
            print(f"Packet {idx}: No suitable band found for offset correction.")

# Get user input once and process packets accordingly
selection = input("\nPress 1 for index 1, 2 for index 2, or 3 for index 3: ").strip()
process_corrected_packets(valid_packets, signal_data, processor, sampling_rate, selection)
