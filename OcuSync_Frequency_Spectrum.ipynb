import numpy as np
import matplotlib.pyplot as plt

def plot_frequency_spectrum(signal_data, sampling_rate):
    """
    Computes and plots the frequency spectrum of the input signal using FFT.
    
    Parameters:
    - signal_data: Input signal data (numpy array)
    - sampling_rate: The sampling rate of the signal (Hz)
    """
    n = len(signal_data)  # Number of samples
    fft_data = np.fft.fft(signal_data)

    # Shift the zero frequency component to the center
    fft_data_shifted = np.fft.fftshift(fft_data)

    # Create the frequency axis
    frequencies = np.fft.fftshift(np.fft.fftfreq(n, 1 / sampling_rate))

    # Plot the magnitude of the shifted FFT
    plt.figure(figsize=(10, 4))
    plt.plot(frequencies / 1e6, np.abs(fft_data_shifted))  # Convert Hz to MHz
    plt.title('Frequency Spectrum of the Signal')
    plt.xlabel('Frequency (MHz)')
    plt.ylabel('Magnitude')
    plt.grid()
    plt.show()

file_number = input("\nEnter file number (1, 2, 3) to analyze, or type 'exit' to quit: ").strip()

if file_number.lower() == "exit":
    plt.close("all")  # Close all plots before exiting
else:
    if file_number in sample_files:
        file_path, sampling_rate = sample_files[file_number]

        # Read the signal data
        with open(file_path, "rb") as f:
            signal_data = np.fromfile(f, dtype=np.complex64)

        plt.close("all")  # Close previous plots before opening new ones

        

        # Plot Frequency Spectrum
        plot_frequency_spectrum(signal_data, sampling_rate)
    else:
        print("Invalid selection. Please enter 1, 2, or 3.")
