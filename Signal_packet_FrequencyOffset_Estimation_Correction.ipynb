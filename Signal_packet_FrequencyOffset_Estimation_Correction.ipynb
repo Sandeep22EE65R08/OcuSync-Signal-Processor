import numpy as np
import matplotlib.pyplot as plt
from scipy.signal import butter, filtfilt, welch, hamming

class DroneSignalProcessor:
    def __init__(self, debug=True):
        self.debug = debug

    @staticmethod
    def fshift(y, offset, Fs):
        """Shift the frequency of the signal."""
        print(f"Signal Length: {len(y)}, Offset: {offset} Hz, Sampling Rate: {Fs} Hz")
        x = np.linspace(0.0, len(y) / Fs, len(y))
        return y * np.exp(x * 2j * np.pi * offset)  # Apply frequency shift correction

    def consecutive(self, data, stepsize=1):
        """Group consecutive elements based on a step size."""
        return np.split(data, np.where(np.diff(data) != stepsize)[0] + 1)

    def estimate_offset(self, y, Fs, packet_type="droneid", selection="1"):
        """Estimate the frequency offset in the signal."""
        nfft_welch = 1024  # FFT size for PSD calculation

        if len(y) < nfft_welch:
            return None, False

        # Apply Hamming window
        window = hamming(len(y))
        y = y * window

        # Compute Power Spectral Density (PSD)
        f, Pxx_den = welch(y, Fs, nfft=nfft_welch, return_onesided=False)
        Pxx_den = np.fft.fftshift(Pxx_den)
        f = np.fft.fftshift(f)

        # Add a fake DC carrier to distinguish signal components
        Pxx_den[nfft_welch // 2 - 10:nfft_welch // 2 + 10] = 1.1 * Pxx_den.mean()

        # Identify candidate frequency bands
        candidate_bands = self.consecutive(np.where(Pxx_den > 0.7 * Pxx_den.mean())[0])

        band_found = False
        offset = 0.0

        for band in candidate_bands:
            start = band[0] - nfft_welch / 2
            end = band[-1] - nfft_welch / 2
            bw = (end - start) * (Fs / nfft_welch)
            fend = start * Fs / nfft_welch
            fstart = end * Fs / nfft_welch

            if self.debug:
                print(f"Candidate band fstart: {fstart:.2f}, fend: {fend:.2f}, bw: {bw / 1e6:.2f} MHz")

            # Selection criteria for different bands
            if selection == "1" and -19.99e6 <= fstart - 0.5 * bw <= -4.5e6:
                offset = fstart - 0.5 * bw
                band_found = True
                break
                
            elif selection == "2" and -24e6 <= fstart - 0.5 * bw <= -6e6:
                offset = fstart - 0.5 * bw
                band_found = True
                break
            elif selection == "3" and -13.5e6 <= fstart - 0.5 * bw <= 4.5e6:
                offset = fstart - 0.5 * bw
                band_found = True
                break
                

        if self.debug:
            print(f"Offset found: {offset / 1000:.2f} kHz")
        return offset, band_found


# Define cutoff frequencies for different selections
cutoff_frequencies = {
    "1": (4.5e6, 19.99e6),
    "2": (6e6, 24e6),
    "3": (5e6, 14e6)
}

# User input for selection
selection = input("\nPress 1 for index 1, 2 for index 2, or 3 for index 3: ").strip()

# Check if selection exists
if selection in sample_files:
    file_path, sampling_rate = sample_files[selection]
    low_cutoff, high_cutoff = cutoff_frequencies[selection]

    # Read the signal data
    with open(file_path, "rb") as f:
        signal_data = np.fromfile(f, dtype=np.complex64)

    # Process each detected packet
    processor = DroneSignalProcessor(debug=False)
    for idx, (start_idx, end_idx) in enumerate(valid_packets, start=1):
        start_time = start_idx / sampling_rate
        end_time = end_idx / sampling_rate
        print(f"Packet {idx}: Start Time = {start_time:.6f} s, End Time = {end_time:.6f} s, Duration = {end_time - start_time:.6f} s")

        # Extract the packet
        packet_data = signal_data[start_idx:end_idx]

        # Estimate frequency offset
        offset, band_found = processor.estimate_offset(packet_data, sampling_rate, packet_type="droneid", selection=selection)

        if band_found:
            print(f"Packet {idx}: Estimated Frequency Offset = {offset / 1000:.2f} kHz")

            # Apply frequency offset correction
            corrected_packet = DroneSignalProcessor.fshift(packet_data, -offset, sampling_rate)

            # Plot the spectrogram of the corrected packet
            plt.figure(figsize=(20, 6))
            plt.specgram(corrected_packet, NFFT=256, Fs=sampling_rate, noverlap=128, scale='dB')
            plt.title(f"Spectrogram of Corrected Packet {idx}")
            plt.xlabel("Time [s]")
            plt.ylabel("Frequency [Hz]")
            plt.colorbar(label="Power/Frequency [dB]")
            plt.show()
        else:
            print(f"Packet {idx}: No suitable band found for offset correction.")
else:
    print("Invalid selection. Please enter 1, 2, or 3.")
