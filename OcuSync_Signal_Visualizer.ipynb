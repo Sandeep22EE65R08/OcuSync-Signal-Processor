import numpy as np
import matplotlib.pyplot as plt

def plot_spectrogram(file_path, sampling_rate):
    """
    Reads a binary signal file, computes its spectrogram, and plots it.

    Parameters:
    file_path (str): Path to the .dat file containing complex64 signal data.
    sampling_rate (float): Sampling rate in Hz.
    """
    # Read the data
    with open(file_path, "rb") as f:
        signal_data = np.fromfile(f, dtype=np.complex64)

    # Compute signal duration
    num_samples = len(signal_data)
    duration = num_samples / sampling_rate  # Duration in seconds

    print(f"\nFile: {file_path.split('/')[-1]}")
    print(f"Number of Samples: {num_samples}")
    print(f"Duration: {duration:.6f} seconds")

    # Close previous plots before plotting a new one
    plt.close("all")

    # Compute and plot spectrogram
    plt.figure(figsize=(10, 4))  # Create a new figure
    plt.specgram(signal_data, Fs=sampling_rate)
    plt.title(f'Spectrogram {file_path.split("/")[-1]} (Fs = {sampling_rate/1e6} MHz)', fontsize=14, fontweight='bold')
    plt.xlabel("Time (s)")
    plt.ylabel("Frequency (Hz)")
    plt.colorbar(label="Intensity (dB)")
    plt.show()

# Mapping file indices to file paths and sampling rates
sample_files = {
    "1": ("/home/sandeep/OS1_40msps_2.455_GHz__20240522-113218.dat", 40e6),
    "2": ("/home/sandeep/ocusync2_50msps.dat", 50e6),
    "3": ("/home/sandeep/OS3_40msps_2.455_GHz__20240520-145718.dat", 40e6),
}

while True:
    file_number = input("\nEnter file number (1, 2, 3) to plot spectrogram, or type 'exit' to quit: ").strip()

    if file_number.lower() == "exit":
        plt.close("all")  # Close all plots before exiting
        break

    if file_number in sample_files:
        file_path, sampling_rate = sample_files[file_number]
        plot_spectrogram(file_path, sampling_rate)
    else:
        print("Invalid selection. Please enter 1, 2, or 3.")
