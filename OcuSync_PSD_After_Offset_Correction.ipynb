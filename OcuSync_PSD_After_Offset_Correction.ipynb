import numpy as np
import matplotlib.pyplot as plt
from scipy.signal import welch, hamming

# Parameters
nfft_welch = 1024  # Number of FFT points for Welch's method

# Define cutoff frequencies for different selections
cutoff_frequencies = {
    "1": (4.5e6, 19.99e6),
    "2": (6e6, 24e6),
    "3": (5e6, 14e6)
}

def compute_and_plot_psd(valid_packets, signal_data, processor, sampling_rate):
    """
    Computes and plots the Power Spectral Density (PSD) of corrected packets.

    Parameters:
        valid_packets (list of tuples): List of (start_idx, end_idx) pairs for detected packets.
        signal_data (np.ndarray): Original signal data.
        processor (DroneSignalProcessor): Instance of the DroneSignalProcessor class.
        sampling_rate (float): Sampling frequency in Hz.
    """

    # Ask user for selection
    selection = input("\nPress 1 for index 1, 2 for index 2, or 3 for index 3: ").strip()

    if selection not in cutoff_frequencies:
        print("Invalid selection. Please enter 1, 2, or 3.")
        return

    # Set cutoff frequencies based on selection
    low_cutoff, high_cutoff = cutoff_frequencies[selection]

    for idx, (start_idx, end_idx) in enumerate(valid_packets, start=1):
        # Extract the signal packet
        current_packet = signal_data[start_idx:end_idx]

        # Estimate frequency offset
        offset, band_found = processor.estimate_offset(current_packet, sampling_rate, selection)

        if band_found:
            # Apply frequency shift correction
            corrected_packet = processor.fshift(current_packet, -offset, sampling_rate)

            # Ensure data length is sufficient for Welch's method
            if len(corrected_packet) < nfft_welch:
                print(f"Packet {idx}: Insufficient data length for Welch's method")
                continue

            # Apply Hamming window
            window = hamming(len(corrected_packet))
            data_windowed = corrected_packet * window

            # Calculate PSD using Welch's method
            f, Pxx_den = welch(data_windowed, sampling_rate, nperseg=nfft_welch, return_onesided=False)

            # Shift frequency and PSD for negative frequencies
            Pxx_den_shifted = np.fft.fftshift(Pxx_den)
            f_shifted = np.fft.fftshift(f)

            # Calculate the mean PSD value
            mean_psd_value = np.mean(Pxx_den_shifted)
            print(f"Mean PSD Value for Packet {idx}: {mean_psd_value:.2e} V^2/Hz")

            # Plot the PSD
            plt.figure(figsize=(10, 4))
            plt.semilogy(f_shifted / 1e6, Pxx_den_shifted)  # Convert frequency to MHz
            plt.axhline(1.1 * mean_psd_value, color='r', linestyle='--', label="Mean PSD")
            plt.xlabel("Frequency [MHz]")
            plt.ylabel("PSD [V^2/Hz]")
            plt.title(f"Power Spectral Density (PSD) of Corrected Packet {idx}")
            plt.legend()
            plt.show()

        else:
            print(f"Packet {idx}: No suitable band found for offset correction.")

# Example usage:
compute_and_plot_psd(valid_packets, signal_data, processor, sampling_rate)
