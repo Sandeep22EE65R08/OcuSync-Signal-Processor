import numpy as np
import matplotlib.pyplot as plt
from scipy.signal import welch, hamming

def compute_psd(signal_data, fs=sampling_rate, nfft_welch=2048):
    """
    Computes and plots the Power Spectral Density (PSD) using Welch's method.
    
    Parameters:
    signal_data (numpy array): Complex signal data.
    fs (float): Sampling frequency in Hz.
    nfft_welch (int): Number of FFT points for Welch's method.
    """
    if len(signal_data) < nfft_welch:
        print("Insufficient data length for Welch's method")
        return
    
    window = hamming(len(signal_data))
    data_windowed = signal_data * window
    
    f, Pxx_den = welch(data_windowed, fs, nperseg=nfft_welch, return_onesided=False)
    Pxx_den_shifted = np.fft.fftshift(Pxx_den)
    f_shifted = np.fft.fftshift(f)
    
    mean_psd_value = np.mean(Pxx_den_shifted)
    print(f"Mean PSD Value: {mean_psd_value:.2e} V^2/Hz")
    
    plt.figure(figsize=(10, 4))
    plt.semilogy(f_shifted / 1e6, Pxx_den_shifted)
    plt.axhline(1.1 * mean_psd_value, color='r', linestyle='--', label="Mean PSD")
    plt.xlabel("Frequency [MHz]")
    plt.ylabel("PSD [V**2/Hz]")
    plt.title("Power Spectral Density (PSD)")
    plt.legend()
    plt.show()

file_number = input("\nEnter file number (1, 2, 3) to plot PSD, or type 'exit' to quit: ").strip()

if file_number.lower() == "exit":
    plt.close("all")  # Close all plots before exiting
else:
    if file_number in sample_files:
        file_path, sampling_rate = sample_files[file_number]

        # Read the signal data
        with open(file_path, "rb") as f:
            signal_data = np.fromfile(f, dtype=np.complex64)

        plt.close("all")  # Close previous plot before opening a new one
        compute_psd(signal_data, sampling_rate)  # Compute and plot PSD for the selected file
    else:
        print("Invalid selection. Please enter 1, 2, or 3.")
